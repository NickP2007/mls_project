{
 "cells": [
  {
   "cell_type": "code",
   "execution_count": 1,
   "id": "9e0f06da",
   "metadata": {},
   "outputs": [],
   "source": [
    "import requests"
   ]
  },
  {
   "cell_type": "code",
   "execution_count": 2,
   "id": "be3919e7",
   "metadata": {},
   "outputs": [],
   "source": [
    "url = 'https://fbref.com/en/comps/22/Major-League-Soccer-Stats'\n",
    "#url = 'https://www.violanation.com/'\n",
    "# url = 'https://oxylabs.io/blog'\n",
    "response = requests.get(url)"
   ]
  },
  {
   "cell_type": "code",
   "execution_count": 3,
   "id": "edf522b0",
   "metadata": {},
   "outputs": [],
   "source": [
    "from bs4 import BeautifulSoup"
   ]
  },
  {
   "cell_type": "code",
   "execution_count": 4,
   "id": "304cec31",
   "metadata": {},
   "outputs": [
    {
     "name": "stdout",
     "output_type": "stream",
     "text": [
      "<title>Major League Soccer Stats | FBref.com</title>\n"
     ]
    }
   ],
   "source": [
    "soup = BeautifulSoup(response.text, 'html.parser')\n",
    "print(soup.title)"
   ]
  },
  {
   "cell_type": "code",
   "execution_count": 5,
   "id": "8b58f211",
   "metadata": {},
   "outputs": [
    {
     "name": "stdout",
     "output_type": "stream",
     "text": [
      "About FBref.com\n"
     ]
    }
   ],
   "source": [
    "blog_titles = soup.findAll(['h3','h4','h5'])\n",
    "for title in blog_titles:\n",
    "    print(title.text)"
   ]
  },
  {
   "cell_type": "code",
   "execution_count": 6,
   "id": "76d2c7c3",
   "metadata": {},
   "outputs": [
    {
     "name": "stdout",
     "output_type": "stream",
     "text": [
      "About FBref.com\n"
     ]
    }
   ],
   "source": [
    "blog_titles = soup.select('h3, h4, h5:not(:-soup-contains(\"Chloe\"))')\n",
    "for title in blog_titles:\n",
    "    print(title.text)"
   ]
  },
  {
   "cell_type": "code",
   "execution_count": 8,
   "id": "2cc2fe33",
   "metadata": {},
   "outputs": [],
   "source": [
    "response = requests.get(url)\n",
    "from lxml import html\n",
    "tree = html.fromstring(response.text)"
   ]
  },
  {
   "cell_type": "code",
   "execution_count": 10,
   "id": "4b0a91e7",
   "metadata": {},
   "outputs": [
    {
     "name": "stdout",
     "output_type": "stream",
     "text": [
      "About FBref.com\n"
     ]
    }
   ],
   "source": [
    "blog_titles = tree.xpath('//h3 | //h4 | //h5[not(contains(text(), \"team\"))]')\n",
    "for title in blog_titles:\n",
    "    print(title.text)"
   ]
  },
  {
   "cell_type": "code",
   "execution_count": null,
   "id": "ccf53535",
   "metadata": {},
   "outputs": [],
   "source": [
    "source = requests.get(\"https://fbref.com/en/squads/6218ebd4/Seattle-Sounders-FC-Stats\").json()\n",
    "players = []\n",
    "teams = []\n",
    "for team in source ['data']:\n",
    "    print()\n",
    "    print "
   ]
  },
  {
   "cell_type": "code",
   "execution_count": null,
   "id": "d0906ecc",
   "metadata": {},
   "outputs": [],
   "source": []
  }
 ],
 "metadata": {
  "kernelspec": {
   "display_name": "Python 3 (ipykernel)",
   "language": "python",
   "name": "python3"
  },
  "language_info": {
   "codemirror_mode": {
    "name": "ipython",
    "version": 3
   },
   "file_extension": ".py",
   "mimetype": "text/x-python",
   "name": "python",
   "nbconvert_exporter": "python",
   "pygments_lexer": "ipython3",
   "version": "3.11.3"
  }
 },
 "nbformat": 4,
 "nbformat_minor": 5
}
